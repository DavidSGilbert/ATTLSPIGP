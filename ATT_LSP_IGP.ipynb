{
 "cells": [
  {
   "cell_type": "code",
   "execution_count": 1,
   "metadata": {},
   "outputs": [],
   "source": [
    "from itertools import chain\n",
    "from nfdk.model_v2.simple_model_pojo_pool import SimpleModelPojoPool\n",
    "from nfdk.pojos.model import InventoryItemTypeEnum, LinkLayerEnum, InventoryItemRef\n",
    "from nfdk.utils.brain_rest_connector import BrainRestConnector\n",
    "import asyncio"
   ]
  },
  {
   "cell_type": "code",
   "execution_count": 2,
   "metadata": {},
   "outputs": [],
   "source": [
    "HOST = '192.168.33.10'\n",
    "PORT = 8080\n",
    "pool = SimpleModelPojoPool.create_with_rest_connector_unsecured(host=HOST, port=PORT, fail_on_missing_pojo=False)\n",
    "brain_rest_connector = BrainRestConnector.create_non_secured(host=HOST, port=PORT)"
   ]
  },
  {
   "cell_type": "code",
   "execution_count": 3,
   "metadata": {},
   "outputs": [],
   "source": [
    "async def run():\n",
    "    await asyncio.gather(pool.connector.fetch_inventory(itype=InventoryItemTypeEnum.ROUTER),\n",
    "                         pool.connector.fetch_links(layer=LinkLayerEnum.LSP),\n",
    "                         pool.connector.fetch_links(layer=LinkLayerEnum.IGP),\n",
    "                         pool.connector.fetch_paths(),\n",
    "                         pool.connector.fetch_sites()\n",
    "                         )\n",
    "    pool.resolve_refs()\n",
    "    return\n",
    "\n",
    "async def get_lsps(router, layers):\n",
    "    link_lists = [await brain_rest_connector.get_links(layer, root=router.guid) for layer in layers]\n",
    "    return [link for link in chain(*link_lists)]\n",
    "\n",
    "async def get_routers():\n",
    "    router_list = [await brain_rest_connector.get_inventory(itype=InventoryItemTypeEnum.ROUTER)]\n",
    "    return [router for router in chain(*router_list)]\n",
    "\n",
    "async def clean_up():\n",
    "    await pool.connector.close()\n",
    "    await brain_rest_connector.close_connection()"
   ]
  },
  {
   "cell_type": "code",
   "execution_count": 5,
   "metadata": {},
   "outputs": [
    {
     "name": "stdout",
     "output_type": "stream",
     "text": [
      "CPU times: user 2.65 s, sys: 134 ms, total: 2.79 s\n",
      "Wall time: 6.01 s\n"
     ]
    }
   ],
   "source": [
    "# Fill the pool and resolv references\n",
    "%time asyncio.get_event_loop().run_until_complete(run())"
   ]
  },
  {
   "cell_type": "code",
   "execution_count": 84,
   "metadata": {},
   "outputs": [
    {
     "name": "stdout",
     "output_type": "stream",
     "text": [
      "CPU times: user 123 ms, sys: 154 ms, total: 277 ms\n",
      "Wall time: 355 ms\n"
     ]
    }
   ],
   "source": [
    "all_routers = %time asyncio.get_event_loop().run_until_complete(get_routers())"
   ]
  },
  {
   "cell_type": "code",
   "execution_count": 109,
   "metadata": {},
   "outputs": [],
   "source": [
    "lsp_path_hops = []\n",
    "for i, router in enumerate(all_routers):\n",
    "    router_lsps = asyncio.get_event_loop().run_until_complete(get_lsps(router, [LinkLayerEnum.LSP]))\n",
    "    for lsp in router_lsps:\n",
    "        if lsp.paths:\n",
    "            lsp_path_guid = [x.guid for x in lsp.paths]\n",
    "            lsp_path = pool.get_by_guid(lsp_path_guid[0])\n",
    "            path_hops = [hop for hop in lsp_path.hops]\n",
    "            lsp_path_hops.append([router.name, router.management_ip, lsp.name, lsp.guid, lsp_path.guid, len(path_hops)])\n",
    "#             print(router.name, lsp_path.guid, len(path_hops))\n",
    "\n",
    "    \n",
    "#     lsp_by_ip[router.management_ip] = sorted([lsp.name for lsp in router_lsps])\n",
    "    \n",
    "    \n",
    "    \n",
    "# import pickle\n",
    "# with open('lsp_by_ip.pickle', 'wb') as r_hash:\n",
    "#     pickle.dump(lsp_by_ip, r_hash)\n",
    "# import pickle\n",
    "# with open('lsp_by_ip.pickle', 'rb') as r_hash:\n",
    "#     lsp_by_ip = pickle.load(r_hash)\n"
   ]
  },
  {
   "cell_type": "code",
   "execution_count": null,
   "metadata": {},
   "outputs": [],
   "source": []
  },
  {
   "cell_type": "code",
   "execution_count": 116,
   "metadata": {},
   "outputs": [
    {
     "data": {
      "text/plain": [
       "[['HER-R10-EA',\n",
       "  '10.190.0.164',\n",
       "  'To-CUN-R2-EA',\n",
       "  'LI/lsp/10.190.0.164/10.190.3.34/To-CUN-R2-EA',\n",
       "  'PA/lsp/10.190.0.164/10.190.3.34/To-CUN-R2-EA',\n",
       "  25],\n",
       " ['CUN-R2-EA',\n",
       "  '10.190.3.34',\n",
       "  'To-CUN-R2-EA',\n",
       "  'LI/lsp/10.190.0.164/10.190.3.34/To-CUN-R2-EA',\n",
       "  'PA/lsp/10.190.0.164/10.190.3.34/To-CUN-R2-EA',\n",
       "  25]]"
      ]
     },
     "execution_count": 116,
     "metadata": {},
     "output_type": "execute_result"
    }
   ],
   "source": [
    "[x for x in lsp_path_hops if x[5] > 24]"
   ]
  },
  {
   "cell_type": "code",
   "execution_count": 78,
   "metadata": {},
   "outputs": [
    {
     "name": "stdout",
     "output_type": "stream",
     "text": [
      "To-GDL-CB-2\n"
     ]
    }
   ],
   "source": [
    "for x in lsp_by_ip['10.190.1.151']:\n",
    "    print(x)\n",
    "    break"
   ]
  },
  {
   "cell_type": "code",
   "execution_count": 79,
   "metadata": {},
   "outputs": [
    {
     "name": "stdout",
     "output_type": "stream",
     "text": [
      "CPU times: user 11.2 ms, sys: 4.75 ms, total: 16 ms\n",
      "Wall time: 26.3 ms\n"
     ]
    }
   ],
   "source": [
    "# Router will have been selected from a list or entered manually\n",
    "# Get the LSPs associated with a router GUID\n",
    "# This is your example router TIJ-M5-EA\n",
    "router_guid = 'IN/10.190.0.56'\n",
    "router = pool.get_by_guid(router_guid)\n",
    "%time router_lsps = asyncio.get_event_loop().run_until_complete(get_lsps(router, [LinkLayerEnum.LSP]))"
   ]
  },
  {
   "cell_type": "code",
   "execution_count": 80,
   "metadata": {},
   "outputs": [
    {
     "data": {
      "text/plain": [
       "{\n",
       "    \"activeProtectionPriority\": null,\n",
       "    \"bidi\": false,\n",
       "    \"desc\": null,\n",
       "    \"distanceMeters\": null,\n",
       "    \"extra\": null,\n",
       "    \"guid\": \"LI/lsp/10.190.0.56/10.190.1.140/To-MTY-M4-EA\",\n",
       "    \"holdPriority\": 0,\n",
       "    \"latencyMicros\": null,\n",
       "    \"layer\": \"LSP\",\n",
       "    \"name\": \"To-MTY-M4-EA\",\n",
       "    \"operStatus\": \"UP\",\n",
       "    \"pathGroupType\": \"SINGLE_PATH\",\n",
       "    \"paths\": [\n",
       "        {\n",
       "            \"guid\": \"PA/lsp/10.190.0.56/10.190.1.140/To-MTY-M4-EA\"\n",
       "        }\n",
       "    ],\n",
       "    \"portA\": {\n",
       "        \"guid\": \"PO/igp/10.190.0.56/10.190.0.56\",\n",
       "        \"type\": \"IGP\"\n",
       "    },\n",
       "    \"portB\": {\n",
       "        \"guid\": \"PO/igp/10.190.1.140/10.190.1.140\",\n",
       "        \"type\": \"IGP\"\n",
       "    },\n",
       "    \"protectionStatus\": \"N_A\",\n",
       "    \"provider\": \"NOKIA_CLI\",\n",
       "    \"role\": \"REGULAR\",\n",
       "    \"service\": false,\n",
       "    \"setupPriority\": 7,\n",
       "    \"speedBps\": 0,\n",
       "    \"srlgs\": null\n",
       "}"
      ]
     },
     "execution_count": 80,
     "metadata": {},
     "output_type": "execute_result"
    }
   ],
   "source": [
    "router_lsps[53]"
   ]
  },
  {
   "cell_type": "code",
   "execution_count": 81,
   "metadata": {},
   "outputs": [],
   "source": [
    "lsp_name = 'MTY-M4'"
   ]
  },
  {
   "cell_type": "code",
   "execution_count": 82,
   "metadata": {},
   "outputs": [
    {
     "data": {
      "text/plain": [
       "['To-MTY-M4-EA', 'To-MTY-M4-EB']"
      ]
     },
     "execution_count": 82,
     "metadata": {},
     "output_type": "execute_result"
    }
   ],
   "source": [
    "[x.name for x in router_lsps if lsp_name in x.name]"
   ]
  },
  {
   "cell_type": "code",
   "execution_count": 55,
   "metadata": {},
   "outputs": [
    {
     "data": {
      "text/plain": [
       "[]"
      ]
     },
     "execution_count": 55,
     "metadata": {},
     "output_type": "execute_result"
    }
   ],
   "source": [
    "lsp"
   ]
  },
  {
   "cell_type": "code",
   "execution_count": 83,
   "metadata": {},
   "outputs": [
    {
     "name": "stdout",
     "output_type": "stream",
     "text": [
      "Router IN/10.190.0.56 has 190 LSPs\n"
     ]
    }
   ],
   "source": [
    "# List of all the LSP for the selected router\n",
    "[x.guid for x in router_lsps]\n",
    "print(f'Router {router_guid} has {len(router_lsps)} LSPs')"
   ]
  },
  {
   "cell_type": "code",
   "execution_count": 67,
   "metadata": {},
   "outputs": [],
   "source": [
    "# Finding your example LSP name To-MTY-M4-EA\n",
    "for i, lsp in enumerate(router_lsps):\n",
    "    if lsp.name == 'To-MTY-M4-EA':\n",
    "        print(i)"
   ]
  },
  {
   "cell_type": "code",
   "execution_count": 8,
   "metadata": {},
   "outputs": [],
   "source": [
    "# This is where the LSP would be selected from a list, entered or a hyper-link selection made\n",
    "lsp = router_lsps[53]"
   ]
  },
  {
   "cell_type": "code",
   "execution_count": 9,
   "metadata": {},
   "outputs": [
    {
     "name": "stdout",
     "output_type": "stream",
     "text": [
      "Router TIJ-M5-EA (IN/10.190.0.56) sees 190 LSPs\n",
      "LSP Name: To-MTY-M4-EA \n",
      "Status: UP \n",
      "LSP Path GUID: PA/lsp/10.190.0.56/10.190.1.140/To-MTY-M4-EA\n",
      "\n",
      "Site Name                      Router Name                    Router Mgt. IP       IGP IP              \n",
      "------------------------------ ------------------------------ --------------------  --------------------\n",
      "RSO TIJUANA                    TIJ-M5-EA                      10.190.0.56          10.190.33.121       \n",
      "RSO TIJUANA                    TIJ-M5-CA                      10.190.0.54          10.190.33.120       \n",
      "RSO TIJUANA                    TIJ-M5-CA                      10.190.0.54          10.190.33.113       \n",
      "BCN-1015 PORFIRIO DIAZ         TIJMTX-BCN1015-CA              10.190.0.0           10.190.33.112       \n",
      "BCN-1015 PORFIRIO DIAZ         TIJMTX-BCN1015-CA              10.190.0.0           10.190.33.134       \n",
      "JUA-002 SWITCH                 JUAMTX-JUA002-CA               10.190.0.221         10.190.33.135       \n",
      "JUA-002 SWITCH                 JUAMTX-JUA002-CA               10.190.0.221         10.190.78.174       \n",
      "NVL-4038 BUENOS AIRES          MONTER-NVL4038-CA              10.190.1.50          10.190.78.175       \n",
      "NVL-4038 BUENOS AIRES          MONTER-NVL4038-CA              10.190.1.50          10.190.78.0         \n",
      "MSO MONTERREY                  MTY-M4-CA                      10.190.1.138         10.190.78.1         \n",
      "MSO MONTERREY                  MTY-M4-CA                      10.190.1.138         10.190.78.8         \n",
      "MSO MONTERREY                  MTY-M4-EA                      10.190.1.140         10.190.78.9         \n"
     ]
    }
   ],
   "source": [
    "if lsp.paths:\n",
    "    lsp_path_guid = [x.guid for x in lsp.paths]\n",
    "    lsp_path = pool.get_by_guid(lsp_path_guid[0])\n",
    "\n",
    "    row = []\n",
    "    for path_hop in lsp_path.hops:\n",
    "        temp = path_hop.link_non_throwing.guid.split('/')\n",
    "        if path_hop.direction.name == \"B_TO_A\":\n",
    "            row.append([temp[4], temp[5]])\n",
    "            row.append([temp[2], temp[3]])\n",
    "        if path_hop.direction.name == \"A_TO_B\":\n",
    "            row.append([temp[2], temp[3]])\n",
    "            row.append([temp[4], temp[5]])\n",
    "\n",
    "    print(f'Router {router.name} ({router.guid}) sees {len(router_lsps)} LSPs')\n",
    "    print(f'LSP Name: {lsp.name} \\nStatus: {lsp.oper_status.name} \\nLSP Path GUID: {lsp_path_guid[0]}')\n",
    "    print(f'\\n{\"Site Name\":30} {\"Router Name\":30} {\"Router Mgt. IP\":20} {\"IGP IP\":20}')\n",
    "    print(f'{\"-\" * 30} {\"-\" * 30} {\"-\" * 20}  {\"-\" * 20}')\n",
    "    for line in row:\n",
    "        router = pool.get_by_guid(f'IN/{line[0]}')\n",
    "        site = router.site_non_throwing\n",
    "        print(f'{site.name:30} {router.name:30} {line[0]:20} {line[1]:20}')\n",
    "else:\n",
    "    print(f'There are no paths for LSP {lsp.name}')"
   ]
  },
  {
   "cell_type": "markdown",
   "metadata": {},
   "source": [
    "# _more detailed output..._"
   ]
  },
  {
   "cell_type": "code",
   "execution_count": 10,
   "metadata": {},
   "outputs": [
    {
     "name": "stdout",
     "output_type": "stream",
     "text": [
      "['PA/lsp/10.190.0.56/10.190.1.140/To-MTY-M4-EA']\n"
     ]
    }
   ],
   "source": [
    "lsp_path_guid = [x.guid for x in lsp.paths]\n",
    "print(lsp_path_guid)"
   ]
  },
  {
   "cell_type": "code",
   "execution_count": 11,
   "metadata": {},
   "outputs": [
    {
     "name": "stdout",
     "output_type": "stream",
     "text": [
      "{\n",
      "    \"extra\": null,\n",
      "    \"guid\": \"PA/lsp/10.190.0.56/10.190.1.140/To-MTY-M4-EA\",\n",
      "    \"hops\": [\n",
      "        {\n",
      "            \"direction\": \"B_TO_A\",\n",
      "            \"extra\": null,\n",
      "            \"label\": null,\n",
      "            \"link\": {\n",
      "                \"guid\": \"LI/igp/10.190.0.54/10.190.33.120/10.190.0.56/10.190.33.121\",\n",
      "                \"layer\": \"IGP\"\n",
      "            }\n",
      "        },\n",
      "        {\n",
      "            \"direction\": \"B_TO_A\",\n",
      "            \"extra\": null,\n",
      "            \"label\": null,\n",
      "            \"link\": {\n",
      "                \"guid\": \"LI/igp/10.190.0.0/10.190.33.112/10.190.0.54/10.190.33.113\",\n",
      "                \"layer\": \"IGP\"\n",
      "            }\n",
      "        },\n",
      "        {\n",
      "            \"direction\": \"A_TO_B\",\n",
      "            \"extra\": null,\n",
      "            \"label\": null,\n",
      "            \"link\": {\n",
      "                \"guid\": \"LI/igp/10.190.0.0/10.190.33.134/10.190.0.221/10.190.33.135\",\n",
      "                \"layer\": \"IGP\"\n",
      "            }\n",
      "        },\n",
      "        {\n",
      "            \"direction\": \"A_TO_B\",\n",
      "            \"extra\": null,\n",
      "            \"label\": null,\n",
      "            \"link\": {\n",
      "                \"guid\": \"LI/igp/10.190.0.221/10.190.78.174/10.190.1.50/10.190.78.175\",\n",
      "                \"layer\": \"IGP\"\n",
      "            }\n",
      "        },\n",
      "        {\n",
      "            \"direction\": \"B_TO_A\",\n",
      "            \"extra\": null,\n",
      "            \"label\": null,\n",
      "            \"link\": {\n",
      "                \"guid\": \"LI/igp/10.190.1.138/10.190.78.1/10.190.1.50/10.190.78.0\",\n",
      "                \"layer\": \"IGP\"\n",
      "            }\n",
      "        },\n",
      "        {\n",
      "            \"direction\": \"A_TO_B\",\n",
      "            \"extra\": null,\n",
      "            \"label\": null,\n",
      "            \"link\": {\n",
      "                \"guid\": \"LI/igp/10.190.1.138/10.190.78.8/10.190.1.140/10.190.78.9\",\n",
      "                \"layer\": \"IGP\"\n",
      "            }\n",
      "        }\n",
      "    ],\n",
      "    \"link\": {\n",
      "        \"guid\": \"LI/lsp/10.190.0.56/10.190.1.140/To-MTY-M4-EA\",\n",
      "        \"layer\": \"LSP\"\n",
      "    },\n",
      "    \"priority\": 0,\n",
      "    \"provider\": \"NOKIA_CLI\",\n",
      "    \"tunPortA\": null,\n",
      "    \"tunPortB\": null\n",
      "}\n"
     ]
    }
   ],
   "source": [
    "lsp_path = pool.get_by_guid(lsp_path_guid[0])\n",
    "print(lsp_path)"
   ]
  },
  {
   "cell_type": "code",
   "execution_count": 12,
   "metadata": {},
   "outputs": [
    {
     "name": "stdout",
     "output_type": "stream",
     "text": [
      "\n",
      "{\n",
      "    \"activeProtectionPriority\": null,\n",
      "    \"advRouters\": [\n",
      "        \"10.190.0.54\",\n",
      "        \"10.190.0.56\"\n",
      "    ],\n",
      "    \"area\": null,\n",
      "    \"bidi\": true,\n",
      "    \"desc\": null,\n",
      "    \"distanceMeters\": null,\n",
      "    \"extra\": null,\n",
      "    \"guid\": \"LI/igp/10.190.0.54/10.190.33.120/10.190.0.56/10.190.33.121\",\n",
      "    \"latencyMicros\": null,\n",
      "    \"layer\": \"IGP\",\n",
      "    \"name\": \"10.190.33.120 to 10.190.33.121\",\n",
      "    \"operStatus\": \"UP\",\n",
      "    \"pathGroupType\": \"SINGLE_PATH\",\n",
      "    \"paths\": [\n",
      "        {\n",
      "            \"guid\": \"PA/igp/10.190.0.54/10.190.33.120/10.190.0.56/10.190.33.121\"\n",
      "        }\n",
      "    ],\n",
      "    \"portA\": {\n",
      "        \"guid\": \"PO/igp/10.190.0.54/10.190.33.120\",\n",
      "        \"type\": \"IGP\"\n",
      "    },\n",
      "    \"portB\": {\n",
      "        \"guid\": \"PO/igp/10.190.0.56/10.190.33.121\",\n",
      "        \"type\": \"IGP\"\n",
      "    },\n",
      "    \"protectionStatus\": \"N_A\",\n",
      "    \"provider\": \"NOKIA_CLI\",\n",
      "    \"role\": \"REGULAR\",\n",
      "    \"service\": false,\n",
      "    \"srlgs\": null\n",
      "}\n",
      "\n",
      "{\n",
      "    \"activeProtectionPriority\": null,\n",
      "    \"advRouters\": [\n",
      "        \"10.190.0.54\",\n",
      "        \"10.190.0.0\"\n",
      "    ],\n",
      "    \"area\": null,\n",
      "    \"bidi\": true,\n",
      "    \"desc\": null,\n",
      "    \"distanceMeters\": null,\n",
      "    \"extra\": null,\n",
      "    \"guid\": \"LI/igp/10.190.0.0/10.190.33.112/10.190.0.54/10.190.33.113\",\n",
      "    \"latencyMicros\": null,\n",
      "    \"layer\": \"IGP\",\n",
      "    \"name\": \"10.190.33.112 to 10.190.33.113\",\n",
      "    \"operStatus\": \"UP\",\n",
      "    \"pathGroupType\": \"SINGLE_PATH\",\n",
      "    \"paths\": [\n",
      "        {\n",
      "            \"guid\": \"PA/igp/10.190.0.0/10.190.33.112/10.190.0.54/10.190.33.113\"\n",
      "        }\n",
      "    ],\n",
      "    \"portA\": {\n",
      "        \"guid\": \"PO/igp/10.190.0.0/10.190.33.112\",\n",
      "        \"type\": \"IGP\"\n",
      "    },\n",
      "    \"portB\": {\n",
      "        \"guid\": \"PO/igp/10.190.0.54/10.190.33.113\",\n",
      "        \"type\": \"IGP\"\n",
      "    },\n",
      "    \"protectionStatus\": \"N_A\",\n",
      "    \"provider\": \"NOKIA_CLI\",\n",
      "    \"role\": \"REGULAR\",\n",
      "    \"service\": false,\n",
      "    \"srlgs\": null\n",
      "}\n",
      "\n",
      "{\n",
      "    \"activeProtectionPriority\": null,\n",
      "    \"advRouters\": [\n",
      "        \"10.190.0.0\",\n",
      "        \"10.190.0.221\"\n",
      "    ],\n",
      "    \"area\": null,\n",
      "    \"bidi\": true,\n",
      "    \"desc\": null,\n",
      "    \"distanceMeters\": null,\n",
      "    \"extra\": null,\n",
      "    \"guid\": \"LI/igp/10.190.0.0/10.190.33.134/10.190.0.221/10.190.33.135\",\n",
      "    \"latencyMicros\": null,\n",
      "    \"layer\": \"IGP\",\n",
      "    \"name\": \"10.190.33.134 to 10.190.33.135\",\n",
      "    \"operStatus\": \"UP\",\n",
      "    \"pathGroupType\": \"SINGLE_PATH\",\n",
      "    \"paths\": [\n",
      "        {\n",
      "            \"guid\": \"PA/igp/10.190.0.0/10.190.33.134/10.190.0.221/10.190.33.135\"\n",
      "        }\n",
      "    ],\n",
      "    \"portA\": {\n",
      "        \"guid\": \"PO/igp/10.190.0.0/10.190.33.134\",\n",
      "        \"type\": \"IGP\"\n",
      "    },\n",
      "    \"portB\": {\n",
      "        \"guid\": \"PO/igp/10.190.0.221/10.190.33.135\",\n",
      "        \"type\": \"IGP\"\n",
      "    },\n",
      "    \"protectionStatus\": \"N_A\",\n",
      "    \"provider\": \"NOKIA_CLI\",\n",
      "    \"role\": \"REGULAR\",\n",
      "    \"service\": false,\n",
      "    \"srlgs\": null\n",
      "}\n",
      "\n",
      "{\n",
      "    \"activeProtectionPriority\": null,\n",
      "    \"advRouters\": [\n",
      "        \"10.190.1.50\",\n",
      "        \"10.190.0.221\"\n",
      "    ],\n",
      "    \"area\": null,\n",
      "    \"bidi\": true,\n",
      "    \"desc\": null,\n",
      "    \"distanceMeters\": null,\n",
      "    \"extra\": null,\n",
      "    \"guid\": \"LI/igp/10.190.0.221/10.190.78.174/10.190.1.50/10.190.78.175\",\n",
      "    \"latencyMicros\": null,\n",
      "    \"layer\": \"IGP\",\n",
      "    \"name\": \"10.190.78.174 to 10.190.78.175\",\n",
      "    \"operStatus\": \"UP\",\n",
      "    \"pathGroupType\": \"SINGLE_PATH\",\n",
      "    \"paths\": [\n",
      "        {\n",
      "            \"guid\": \"PA/igp/10.190.0.221/10.190.78.174/10.190.1.50/10.190.78.175\"\n",
      "        }\n",
      "    ],\n",
      "    \"portA\": {\n",
      "        \"guid\": \"PO/igp/10.190.0.221/10.190.78.174\",\n",
      "        \"type\": \"IGP\"\n",
      "    },\n",
      "    \"portB\": {\n",
      "        \"guid\": \"PO/igp/10.190.1.50/10.190.78.175\",\n",
      "        \"type\": \"IGP\"\n",
      "    },\n",
      "    \"protectionStatus\": \"N_A\",\n",
      "    \"provider\": \"NOKIA_CLI\",\n",
      "    \"role\": \"REGULAR\",\n",
      "    \"service\": false,\n",
      "    \"srlgs\": null\n",
      "}\n",
      "\n",
      "{\n",
      "    \"activeProtectionPriority\": null,\n",
      "    \"advRouters\": [\n",
      "        \"10.190.1.50\",\n",
      "        \"10.190.1.138\"\n",
      "    ],\n",
      "    \"area\": null,\n",
      "    \"bidi\": true,\n",
      "    \"desc\": null,\n",
      "    \"distanceMeters\": null,\n",
      "    \"extra\": null,\n",
      "    \"guid\": \"LI/igp/10.190.1.138/10.190.78.1/10.190.1.50/10.190.78.0\",\n",
      "    \"latencyMicros\": null,\n",
      "    \"layer\": \"IGP\",\n",
      "    \"name\": \"10.190.78.1 to 10.190.78.0\",\n",
      "    \"operStatus\": \"UP\",\n",
      "    \"pathGroupType\": \"SINGLE_PATH\",\n",
      "    \"paths\": [\n",
      "        {\n",
      "            \"guid\": \"PA/igp/10.190.1.138/10.190.78.1/10.190.1.50/10.190.78.0\"\n",
      "        }\n",
      "    ],\n",
      "    \"portA\": {\n",
      "        \"guid\": \"PO/igp/10.190.1.138/10.190.78.1\",\n",
      "        \"type\": \"IGP\"\n",
      "    },\n",
      "    \"portB\": {\n",
      "        \"guid\": \"PO/igp/10.190.1.50/10.190.78.0\",\n",
      "        \"type\": \"IGP\"\n",
      "    },\n",
      "    \"protectionStatus\": \"N_A\",\n",
      "    \"provider\": \"NOKIA_CLI\",\n",
      "    \"role\": \"REGULAR\",\n",
      "    \"service\": false,\n",
      "    \"srlgs\": null\n",
      "}\n",
      "\n",
      "{\n",
      "    \"activeProtectionPriority\": null,\n",
      "    \"advRouters\": [\n",
      "        \"10.190.1.138\",\n",
      "        \"10.190.1.140\"\n",
      "    ],\n",
      "    \"area\": null,\n",
      "    \"bidi\": true,\n",
      "    \"desc\": null,\n",
      "    \"distanceMeters\": null,\n",
      "    \"extra\": null,\n",
      "    \"guid\": \"LI/igp/10.190.1.138/10.190.78.8/10.190.1.140/10.190.78.9\",\n",
      "    \"latencyMicros\": null,\n",
      "    \"layer\": \"IGP\",\n",
      "    \"name\": \"10.190.78.8 to 10.190.78.9\",\n",
      "    \"operStatus\": \"UP\",\n",
      "    \"pathGroupType\": \"SINGLE_PATH\",\n",
      "    \"paths\": [\n",
      "        {\n",
      "            \"guid\": \"PA/igp/10.190.1.138/10.190.78.8/10.190.1.140/10.190.78.9\"\n",
      "        }\n",
      "    ],\n",
      "    \"portA\": {\n",
      "        \"guid\": \"PO/igp/10.190.1.138/10.190.78.8\",\n",
      "        \"type\": \"IGP\"\n",
      "    },\n",
      "    \"portB\": {\n",
      "        \"guid\": \"PO/igp/10.190.1.140/10.190.78.9\",\n",
      "        \"type\": \"IGP\"\n",
      "    },\n",
      "    \"protectionStatus\": \"N_A\",\n",
      "    \"provider\": \"NOKIA_CLI\",\n",
      "    \"role\": \"REGULAR\",\n",
      "    \"service\": false,\n",
      "    \"srlgs\": null\n",
      "}\n"
     ]
    }
   ],
   "source": [
    "for path_hop in lsp_path.hops:\n",
    "    print(f'\\n{path_hop.link_non_throwing}')"
   ]
  },
  {
   "cell_type": "code",
   "execution_count": 13,
   "metadata": {},
   "outputs": [],
   "source": [
    "asyncio.get_event_loop().run_until_complete(clean_up())"
   ]
  },
  {
   "cell_type": "code",
   "execution_count": null,
   "metadata": {},
   "outputs": [],
   "source": [
    "# if the root= isn't available in your NDFK use this to get the LSPs\n",
    "def test_lsp(router):\n",
    "    lo_routers = []\n",
    "    router = pool.get_by_guid(router_guid)\n",
    "    for l in lsp:\n",
    "        if router.management_ip in l.port_a_non_throwing.guid or router.management_ip in l.port_b_non_throwing.guid:\n",
    "            lo_routers.append(l)\n",
    "    return lo_routers\n",
    "\n",
    "%time test = test_lsp('IN/10.190.0.103')\n",
    "print(len(test))"
   ]
  }
 ],
 "metadata": {
  "kernelspec": {
   "display_name": "Python 3",
   "language": "python",
   "name": "python3"
  },
  "language_info": {
   "codemirror_mode": {
    "name": "ipython",
    "version": 3
   },
   "file_extension": ".py",
   "mimetype": "text/x-python",
   "name": "python",
   "nbconvert_exporter": "python",
   "pygments_lexer": "ipython3",
   "version": "3.6.5"
  }
 },
 "nbformat": 4,
 "nbformat_minor": 2
}
